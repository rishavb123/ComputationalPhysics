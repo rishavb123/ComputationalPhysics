{
 "cells": [
  {
   "cell_type": "markdown",
   "metadata": {},
   "source": [
    "# Gaussion Elimination"
   ]
  },
  {
   "cell_type": "markdown",
   "metadata": {},
   "source": [
    "First, we need the relevant imports"
   ]
  },
  {
   "cell_type": "code",
   "execution_count": 1,
   "metadata": {},
   "outputs": [],
   "source": [
    "import numpy as np"
   ]
  },
  {
   "cell_type": "markdown",
   "metadata": {},
   "source": [
    "Now, we must define our equation using matricies and vectors"
   ]
  },
  {
   "cell_type": "code",
   "execution_count": 2,
   "metadata": {},
   "outputs": [],
   "source": [
    "A = np.array([[0, 1, 1],\n",
    "              [1, 0, 1],\n",
    "              [1, 1, 0]], float)\n",
    "\n",
    "v = np.array([3, 5, 4], float)\n",
    "\n",
    "N = len(v)\n",
    "\n",
    "x = np.empty(N, float)"
   ]
  },
  {
   "cell_type": "markdown",
   "metadata": {},
   "source": [
    "Now, we will perform guassian elimination using \n",
    "$$\\vec{a_j} = \\vec{a_j} - a_{ji}\\vec{a_i}$$\n",
    "for all $i > j$, where $\\vec{a_j}$ is the row vector of the $j$th row. \n",
    "\n",
    "And we implement partial pivoting to ensure that the diagonal rows are non-zero. "
   ]
  },
  {
   "cell_type": "code",
   "execution_count": 3,
   "metadata": {},
   "outputs": [
    {
     "name": "stdout",
     "output_type": "stream",
     "text": [
      "A: [[ 1.  0.  1.]\n",
      " [ 0.  1.  1.]\n",
      " [-0. -0.  1.]] \n",
      "v: [5. 3. 2.]\n"
     ]
    }
   ],
   "source": [
    "for m in range(N):\n",
    "    \n",
    "    for i in range(m+1,N):\n",
    "        if np.abs(A[m,m]) < np.abs(A[i,m]):\n",
    "            A[[m,i],:] = A[[i,m],:]\t\n",
    "            v[[m,i]] = v[[i,m]]\n",
    "    \n",
    "    div = A[m, m]\n",
    "    A[m, :] /= div\n",
    "    v[m] /= div\n",
    "    \n",
    "    \n",
    "    for i in range(m+1, N):\n",
    "        \n",
    "        mult = A[i, m]\n",
    "        A[i, :] -= mult * A[m, :]\n",
    "        v[i] -= mult * v[m]\n",
    "        \n",
    "print(\"A:\", A, \"\\nv:\", v)"
   ]
  },
  {
   "cell_type": "markdown",
   "metadata": {},
   "source": [
    "Now let's use upper triangle matrix to find the vector $\\vec{x}$ using backsubstitution.\n",
    "$$x_k = v_k - \\sum_{i=k+1}^n a_{ki}x_i$$\n",
    "Make sure to loop from the last $x_k$ since each $x_k$ depends on all those after it."
   ]
  },
  {
   "cell_type": "code",
   "execution_count": 4,
   "metadata": {},
   "outputs": [
    {
     "name": "stdout",
     "output_type": "stream",
     "text": [
      "[3. 1. 2.]\n"
     ]
    }
   ],
   "source": [
    "for m in range(N-1, -1, -1):\n",
    "    x[m] = v[m] - sum([A[m, i] * x[i] for i in range(m + 1, N)])\n",
    "    \n",
    "print(x)"
   ]
  },
  {
   "cell_type": "markdown",
   "metadata": {},
   "source": [
    "Now, combine it all into one method"
   ]
  },
  {
   "cell_type": "code",
   "execution_count": 5,
   "metadata": {},
   "outputs": [],
   "source": [
    "def solve(A, v):\n",
    "    N = len(v)\n",
    "    x = np.empty(N, float)\n",
    "    \n",
    "    for m in range(N):\n",
    "    \n",
    "        for i in range(m+1,N):\n",
    "            if np.abs(A[m,m]) < np.abs(A[i,m]):\n",
    "                A[[m,i],:] = A[[i,m],:]\t\n",
    "                v[[m,i]] = v[[i,m]]\n",
    "\n",
    "        div = A[m, m]\n",
    "        A[m, :] /= div\n",
    "        v[m] /= div\n",
    "\n",
    "        for i in range(m+1, N):\n",
    "\n",
    "            mult = A[i, m]\n",
    "            A[i, :] -= mult * A[m, :]\n",
    "            v[i] -= mult * v[m]\n",
    "            \n",
    "    for m in range(N-1, -1, -1):\n",
    "        x[m] = v[m] - sum([A[m, i] * x[i] for i in range(m + 1, N)])\n",
    "    return x"
   ]
  },
  {
   "cell_type": "code",
   "execution_count": 9,
   "metadata": {},
   "outputs": [
    {
     "name": "stdout",
     "output_type": "stream",
     "text": [
      "[3. 1. 2.]\n",
      "[3. 1. 2.]\n"
     ]
    }
   ],
   "source": [
    "print(solve(A, v))\n",
    "\n",
    "print(np.linalg.solve(A, v))"
   ]
  }
 ],
 "metadata": {
  "kernelspec": {
   "display_name": "Python 3",
   "language": "python",
   "name": "python3"
  },
  "language_info": {
   "codemirror_mode": {
    "name": "ipython",
    "version": 3
   },
   "file_extension": ".py",
   "mimetype": "text/x-python",
   "name": "python",
   "nbconvert_exporter": "python",
   "pygments_lexer": "ipython3",
   "version": "3.7.3"
  }
 },
 "nbformat": 4,
 "nbformat_minor": 2
}
