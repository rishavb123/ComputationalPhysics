{
 "cells": [
  {
   "cell_type": "markdown",
   "metadata": {},
   "source": [
    "## Electric Field of a Charge Distribution\n",
    "(Exercise 5.21)\n",
    "Suppose we have a distribution of charges and we want to calculate the resulting electric field. One way to do this is to first calculate the electric potention $\\phi$ and then take its gradient. For a point charge $q$ at the origin, the electric potential at a distance $r$ from the origin is $\\phi=q/4\\pi\\epsilon_0 r$ and the electric field is $\\vec{E} = -\\nabla\\phi$."
   ]
  },
  {
   "cell_type": "markdown",
   "metadata": {},
   "source": [
    "a) We have two charges with charge $-q$ and $q$, a distance $d$ apart. Find the resulting electric potential on a $L$ x $L$ square plane surrounding the charges and passing through them. Then, also calculate the potential at $r$ spaced points in a grid and make a visualization on the screen of the potential using a density plot.\n",
    "![](square_plane.png)"
   ]
  }
 ],
 "metadata": {
  "kernelspec": {
   "display_name": "Python 3",
   "language": "python",
   "name": "python3"
  },
  "language_info": {
   "codemirror_mode": {
    "name": "ipython",
    "version": 3
   },
   "file_extension": ".py",
   "mimetype": "text/x-python",
   "name": "python",
   "nbconvert_exporter": "python",
   "pygments_lexer": "ipython3",
   "version": "3.7.3"
  }
 },
 "nbformat": 4,
 "nbformat_minor": 2
}
